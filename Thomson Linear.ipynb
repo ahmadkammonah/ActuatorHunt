{
 "cells": [
  {
   "cell_type": "code",
   "execution_count": 1,
   "metadata": {},
   "outputs": [],
   "source": [
    "import csv\n",
    "import requests\n",
    "from bs4 import BeautifulSoup \n",
    "import time\n",
    "import re\n",
    "from selenium import webdriver"
   ]
  },
  {
   "cell_type": "code",
   "execution_count": 3,
   "metadata": {},
   "outputs": [],
   "source": [
    "page = \"https://www.thomsonlinear.com/en/products/linear-actuators-products\"\n",
    "\n",
    "with open('Thomsonlinear.html', 'r') as f:\n",
    "    contents = f.read()\n",
    "    soup = BeautifulSoup(contents, 'lxml')\n",
    "    rows = soup.find_all('tr')\n",
    "    rows = rows[2:]"
   ]
  },
  {
   "cell_type": "code",
   "execution_count": 4,
   "metadata": {
    "scrolled": false
   },
   "outputs": [],
   "source": [
    "data = []\n",
    "for row in rows:\n",
    "    col = row.find_all('td')\n",
    "    col = col[:8]\n",
    "    col = [item.text for item in col]\n",
    "    data.append(col)"
   ]
  },
  {
   "cell_type": "code",
   "execution_count": 5,
   "metadata": {
    "scrolled": true
   },
   "outputs": [
    {
     "data": {
      "text/plain": [
       "['24 Vdc',\n",
       " '75 lbf',\n",
       " '5.00 in',\n",
       " '0.65 in/s',\n",
       " 'None',\n",
       " 'S24-17A16-05-CAA',\n",
       " '$206.72',\n",
       " '3 Days']"
      ]
     },
     "execution_count": 5,
     "metadata": {},
     "output_type": "execute_result"
    }
   ],
   "source": [
    "col"
   ]
  },
  {
   "cell_type": "code",
   "execution_count": 6,
   "metadata": {},
   "outputs": [],
   "source": [
    "with open(\"Thomson.csv\", \"w+\") as fileWriter:\n",
    "    wr = csv.writer(fileWriter)\n",
    "    wr.writerows(data)"
   ]
  }
 ],
 "metadata": {
  "kernelspec": {
   "display_name": "Python 3",
   "language": "python",
   "name": "python3"
  }
 },
 "nbformat": 4,
 "nbformat_minor": 4
}
