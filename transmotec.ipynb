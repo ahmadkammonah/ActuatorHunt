{
 "cells": [
  {
   "cell_type": "code",
   "execution_count": 1,
   "metadata": {},
   "outputs": [],
   "source": [
    "import csv\n",
    "import requests\n",
    "from bs4 import BeautifulSoup \n",
    "import time\n",
    "import re"
   ]
  },
  {
   "cell_type": "code",
   "execution_count": 2,
   "metadata": {},
   "outputs": [],
   "source": [
    "from selenium import webdriver\n",
    "\n",
    "driver = webdriver.Firefox()\n",
    "driver.get(\"https://transmotec.com/product-category/linear-actuators/dla-series/\")\n",
    "\n",
    "site = \"https://transmotec.com/\"\n",
    "page = \"https://transmotec.com/product-category/linear-actuators/dla-series/\"\n",
    "\n",
    "products = []\n",
    "allPrices = []\n",
    "\n",
    "for x in range(9):\n",
    "    soup = BeautifulSoup(driver.page_source, 'lxml')\n",
    "    products.extend(soup.find_all('div', class_=\"col-sm-12 col-lg-5 col-xl-5\"))\n",
    "    allPrices.extend(soup.find_all('div', class_=\"col-9 text-right\"))\n",
    "    driver.find_element_by_name(\"ctl00$ContentPlaceHolder1$ProductGrid$ctl00$ctl03$ctl01$ctl16\").click();\n",
    "    time.sleep(10)"
   ]
  },
  {
   "cell_type": "code",
   "execution_count": 3,
   "metadata": {},
   "outputs": [],
   "source": [
    "cleanAllPrices = [clean.text for clean in allPrices]"
   ]
  },
  {
   "cell_type": "code",
   "execution_count": 4,
   "metadata": {
    "scrolled": true
   },
   "outputs": [],
   "source": [
    "prices = [clean for index, clean in enumerate(cleanAllPrices) if ((index + 5) % 5) == 0]\n",
    "rows = [row.find_all('div') for row in products]\n",
    "\n",
    "data = []\n",
    "x = 0\n",
    "for row in rows:\n",
    "    item = []\n",
    "    temp = (re.split(r'\\n', row[0].text.strip()))\n",
    "    item.append(temp[0])             #Name\n",
    "    item.append(temp[2].lstrip())             #model\n",
    "\n",
    "    item.append(row[6].text)              #Input Voltage\n",
    "    item.append(row[15].text)             #Stroke Length\n",
    "    item.append(row[12].text)             #Max Force\n",
    "    item.append(row[9].text)              #Feedback\n",
    "    item.append(prices[x])                #Prices\n",
    "    x += 1\n",
    "    data.append(item)"
   ]
  },
  {
   "cell_type": "code",
   "execution_count": 5,
   "metadata": {},
   "outputs": [],
   "source": [
    "with open(\"transmotec.csv\", \"w+\") as fileWriter:\n",
    "    wr = csv.writer(fileWriter)\n",
    "    wr.writerows(data)"
   ]
  }
 ],
 "metadata": {
  "kernelspec": {
   "display_name": "Python 3",
   "language": "python",
   "name": "python3"
  },
  "language_info": {
   "codemirror_mode": {
    "name": "ipython",
    "version": 3
   },
   "file_extension": ".py",
   "mimetype": "text/x-python",
   "name": "python",
   "nbconvert_exporter": "python",
   "pygments_lexer": "ipython3",
   "version": "3.8.3"
  }
 },
 "nbformat": 4,
 "nbformat_minor": 4
}
